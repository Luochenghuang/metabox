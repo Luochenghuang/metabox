{
 "cells": [
  {
   "cell_type": "markdown",
   "metadata": {},
   "source": [
    "# Tutorial 1: Metamodeling\n",
    "\n",
    "A metasurface consists of subwavelength scatterers, called meta-atoms. When we model the optical behavior of the metasurface, it would take a long time to compute the transmission coefficient of individual scatterers. Here, we use a metamodel to model the complex transmission coefficient of such scatterers to achieve considerable speed up. This method allows design of large area metasurfaces while maintaining good accuracy for modeling the optical behavior.\n",
    "\n",
    "`metabox` enables complicated deep neural networks talored to the needs of the complex meta-atoms. This tutorial will go over some of the most useful features in `metabox` to help you design, sample, and metamodel after your meta-atoms."
   ]
  }
 ],
 "metadata": {
  "language_info": {
   "name": "python"
  },
  "orig_nbformat": 4
 },
 "nbformat": 4,
 "nbformat_minor": 2
}
